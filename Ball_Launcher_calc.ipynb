{
 "cells": [
  {
   "cell_type": "code",
   "execution_count": 1,
   "metadata": {},
   "outputs": [
    {
     "name": "stdout",
     "output_type": "stream",
     "text": [
      "The moment of inertia of the system is 0.004 kg m^2\n",
      "The total mass of the system is 0.448 kg\n"
     ]
    }
   ],
   "source": [
    "# this cell is just made-up numbers. Don't use this cell.\n",
    "g = 9.783 # m/s^2 at Bangkok\n",
    "m_ball = 24e-3 # kg\n",
    "r_ball = 4e-2 # m for standard squash ball\n",
    "r_link = 17e-2 # m\n",
    "m_link = 0.2 # kg\n",
    "\n",
    "# calculate the moment of inertia of the system\n",
    "I_ball = m_ball * r_ball**2\n",
    "I_link = 1/3 * m_link * r_link**2\n",
    "\n",
    "I_sys = 2*I_link + 2*I_ball\n",
    "print(f\"The moment of inertia of the system is {I_sys:.3f} kg m^2\")\n",
    "\n",
    "# total mass\n",
    "m_sys = 2*m_link + 2*m_ball\n",
    "print(f\"The total mass of the system is {m_sys:.3f} kg\")\n"
   ]
  },
  {
   "cell_type": "code",
   "execution_count": 6,
   "metadata": {},
   "outputs": [
    {
     "name": "stdout",
     "output_type": "stream",
     "text": [
      "The moment of inertia of the system is 0.00369627492 kg m^2\n"
     ]
    }
   ],
   "source": [
    "# calculate from solidorks CAD\n",
    "g = 9.783 # m/s^2 at Bangkok\n",
    "m_ball = 24e-3 # kg\n",
    "r_ball = 4e-2 # m for standard squash ball\n",
    "r_link = 17e-2 # m\n",
    "\n",
    "m_sys = 321.40 * 1e-3 # kg\n",
    "I_sys = 3696274.92 # g mm^2\n",
    "I_sys = I_sys * 1e-9 # kg m^2\n",
    "\n",
    "print(f\"The moment of inertia of the system is {I_sys} kg m^2\")\n"
   ]
  },
  {
   "cell_type": "code",
   "execution_count": null,
   "metadata": {},
   "outputs": [
    {
     "name": "stdout",
     "output_type": "stream",
     "text": [
      "The kinetic energy at 400 rpm is 3.2427 J\n",
      "angular velocity at 400 rpm is 41.8879 rad/s\n",
      "The torque required to reach 400 rpm in 20.0000 s is 0.0077 Nm\n",
      "The average power required to reach 400 rpm in 20.0000 s is 0.1621 W\n",
      "The max power required to reach 400 rpm in 20 s 20.0000 0.3243 W\n",
      "The torque should be at least 0.0232 Nm\n",
      "The average power should be at least 0.4864 W\n",
      "The max power should be at least 0.9728 W\n"
     ]
    }
   ],
   "source": [
    "# to reach the speed of 400 rpm\n",
    "omega_f = 400 * 2 * math.pi / 60\n",
    "KE_f = 1/2 * I_sys * omega_f**2\n",
    "print(f\"The kinetic energy at 400 rpm is {KE_f:.4f} J\")\n",
    "print(f\"angular velocity at 400 rpm is {omega_f:.4f} rad/s\")\n",
    "\n",
    "# assume power is averagely constant\n",
    "delt_t = 20 # s\n",
    "P = KE_f / delt_t\n",
    "print(f\"The power required is {P:.4f} W\")\n"
   ]
  },
  {
   "cell_type": "code",
   "execution_count": 25,
   "metadata": {},
   "outputs": [
    {
     "name": "stdout",
     "output_type": "stream",
     "text": [
      "\n",
      "The kinetic energy at 400 rpm is 3.24273522 J\n",
      "angular velocity at 400 rpm is 41.88790205 rad/s\n",
      "The torque required to reach 400 rpm in 20.00000000 s is 0.00774146 Nm\n",
      "The average power required to reach 400 rpm in 20.00000000 s is 0.16213676 W\n",
      "The max power required to reach 400 rpm in 20 s 20.00000000 0.32427352 W\n",
      "The torque should be at least 0.02322438 Nm\n",
      "The average power should be at least 0.48641028 W\n",
      "The max power should be at least 0.97282057 W\n",
      "The torque required to reach 400 rpm in 20.00000000 s is 0.23224380 kg*cm\n"
     ]
    }
   ],
   "source": [
    "# to reach the speed of 400 rpm\n",
    "omega_f = 400 * 2 * math.pi / 60\n",
    "KE_f = 1/2 * I_sys * omega_f**2\n",
    "print(f\"The kinetic energy at 400 rpm is {KE_f:.8f} J\")\n",
    "print(f\"angular velocity at 400 rpm is {omega_f:.8f} rad/s\")\n",
    "\n",
    "# assume torque is averagely constant\n",
    "delt_t = 20 # s\n",
    "alpha = omega_f / delt_t\n",
    "torque = I_sys * alpha\n",
    "print(f\"The torque required to reach 400 rpm in {delt_t:.8f} s is {torque:.8f} Nm\")\n",
    "power_avg = KE_f / delt_t\n",
    "power_max = torque * omega_f\n",
    "print(f\"The average power required to reach 400 rpm in {delt_t:.8f} s is {power_avg:.8f} W\")\n",
    "print(f\"The max power required to reach 400 rpm in 20 s {delt_t:.8f} {power_max:.8f} W\")\n",
    "\n",
    "SF = 3 # safety factor\n",
    "print(f\"The torque should be at least {torque*SF:.8f} Nm\")\n",
    "print(f\"The average power should be at least {power_avg*SF:.8f} W\")\n",
    "print(f\"The max power should be at least {power_max*SF:.8f} W\")\n",
    "\n",
    "# print torque in kg*cm\n",
    "print(f\"The torque required to reach 400 rpm in {delt_t:.8f} s is {SF*torque*10:.8f} kg*cm\")\n"
   ]
  }
 ],
 "metadata": {
  "kernelspec": {
   "display_name": "Python 3",
   "language": "python",
   "name": "python3"
  },
  "language_info": {
   "codemirror_mode": {
    "name": "ipython",
    "version": 3
   },
   "file_extension": ".py",
   "mimetype": "text/x-python",
   "name": "python",
   "nbconvert_exporter": "python",
   "pygments_lexer": "ipython3",
   "version": "3.10.2"
  }
 },
 "nbformat": 4,
 "nbformat_minor": 2
}
